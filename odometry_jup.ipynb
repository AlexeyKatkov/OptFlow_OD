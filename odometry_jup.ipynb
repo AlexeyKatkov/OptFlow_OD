{
 "cells": [
  {
   "cell_type": "code",
   "execution_count": null,
   "id": "d3e4019c",
   "metadata": {},
   "outputs": [],
   "source": [
    "import cv2\n",
    "import os\n",
    "import numpy as np\n",
    "import matplotlib.pyplot as plt\n",
    "from tqdm import tqdm"
   ]
  },
  {
   "cell_type": "code",
   "execution_count": null,
   "id": "f6333bd6",
   "metadata": {},
   "outputs": [],
   "source": [
    "# Папка с кадрами\n",
    "img_folder = r\"C:\\\\Users\\\\User\\\\Desktop\\\\drones\\\\opt_dan\\\\downloads\\\\0000\\\\frames\"\n",
    "\n",
    "# Сортировка файлов\n",
    "images = sorted(os.listdir(img_folder))\n",
    "\n",
    "# Чтение первого кадра\n",
    "img_path = os.path.join(img_folder, images[0])\n",
    "old_frame = cv2.imread(img_path)\n",
    "old_gray = cv2.cvtColor(old_frame, cv2.COLOR_BGR2GRAY)"
   ]
  },
  {
   "cell_type": "code",
   "execution_count": null,
   "id": "4b45adc0",
   "metadata": {},
   "outputs": [],
   "source": [
    "img_path = os.path.join(img_folder, images[200])\n",
    "frame = cv2.imread(img_path)\n",
    "frame = cv2.cvtColor(frame, cv2.COLOR_BGR2RGB)\n",
    "plt.imshow(frame)"
   ]
  },
  {
   "cell_type": "code",
   "execution_count": null,
   "id": "eed6d11b",
   "metadata": {},
   "outputs": [],
   "source": [
    "frame.shape"
   ]
  },
  {
   "cell_type": "code",
   "execution_count": null,
   "id": "fbf09818",
   "metadata": {},
   "outputs": [],
   "source": [
    "img = frame\n",
    "# 720p → 1280x720\n",
    "img_720p = cv2.resize(img, (1280, 720))\n",
    "\n",
    "# 480p → 640x480\n",
    "img_480p = cv2.resize(img, (640, 480))\n",
    "\n",
    "# 240p → 426x240 (16:9) или 320x240 (4:3)\n",
    "img_240p = cv2.resize(img, (426, 240))\n",
    "\n",
    "img_160p = cv2.resize(img, (284, 160))\n",
    "\n",
    "# 144p 16:9\n",
    "img_144p = cv2.resize(img, (256, 144))\n",
    "\n",
    "# 120p 16:9\n",
    "img_120p = cv2.resize(img, (213, 120))"
   ]
  },
  {
   "cell_type": "code",
   "execution_count": null,
   "id": "55455376",
   "metadata": {},
   "outputs": [],
   "source": [
    "import cv2\n",
    "import numpy as np\n",
    "import matplotlib.pyplot as plt\n",
    "\n",
    "def draw_inlier_matches(img1, img2, kp1, kp2, matches, mask):\n",
    "    # Берём только инлайеры\n",
    "    inlier_matches = [m for i, m in enumerate(matches) if mask[i]]\n",
    "\n",
    "    # cv2.drawMatches рисует одну большую картинку с соединёнными изображениями\n",
    "    matched_img = cv2.drawMatches(\n",
    "        img1, kp1,\n",
    "        img2, kp2,\n",
    "        inlier_matches,\n",
    "        None,\n",
    "        matchColor=(255, 0, 0),   # линии будут красные\n",
    "        singlePointColor=(0, 0, 255), # ключевые точки - красные кружки\n",
    "        flags=cv2.DrawMatchesFlags_NOT_DRAW_SINGLE_POINTS\n",
    "    )\n",
    "\n",
    "    # OpenCV рисует в BGR, matplotlib ждёт RGB\n",
    "    matched_img = cv2.cvtColor(matched_img, cv2.COLOR_BGR2RGB)\n",
    "\n",
    "    # Выводим через matplotlib\n",
    "    plt.figure(figsize=(15, 7))\n",
    "    plt.imshow(matched_img)\n",
    "    plt.axis(\"off\")\n",
    "    plt.show()\n"
   ]
  },
  {
   "cell_type": "code",
   "execution_count": null,
   "id": "4935ce00",
   "metadata": {},
   "outputs": [],
   "source": [
    "img_path = os.path.join(img_folder, images[1])\n",
    "img1 = cv2.imread(img_path)\n",
    "img_path = os.path.join(img_folder, images[19])\n",
    "img2 = cv2.imread(img_path)\n",
    "max_features = 1000 # ограничиваем количество точек которое будет выявлять детектор\n",
    "sift = cv2.SIFT_create(nfeatures=max_features)\n",
    "bf = cv2.BFMatcher(cv2.NORM_L2, crossCheck=True) # Метод сопоставления дескрипторов с  cv2.NORM_L2 (евклидово расстояние)\n",
    "focal_length = 512.0\n",
    "principal_point = (focal_length,focal_length)\n",
    "\n",
    "old_gray = cv2.cvtColor(img1, cv2.COLOR_BGR2GRAY)\n",
    "frame_gray = cv2.cvtColor(img2, cv2.COLOR_BGR2GRAY)\n",
    "\n",
    "keypoints_prev, descriptors_prev = sift.detectAndCompute(old_gray, None)\n",
    "keypoints_cur, descriptors_cur = sift.detectAndCompute(frame_gray, None)\n",
    "\n",
    "matches = bf.match(descriptors_prev, descriptors_cur)\n",
    "matches = matches[:200]\n",
    "\n",
    "pts_prev = np.float32([keypoints_prev[m.queryIdx].pt for m in matches])\n",
    "pts_curr = np.float32([keypoints_cur[m.trainIdx].pt for m in matches])\n",
    "\n",
    "\n",
    "E, mask = cv2.findEssentialMat(pts_curr, pts_prev, focal=focal_length, pp=principal_point, method=cv2.RANSAC, prob=0.999, threshold=1.0)\n",
    "\n",
    "\n",
    "\n",
    "draw_inlier_matches(img1, img2, keypoints_prev, keypoints_cur, matches, mask.ravel().tolist())\n"
   ]
  },
  {
   "cell_type": "code",
   "execution_count": null,
   "id": "d432f3cf",
   "metadata": {},
   "outputs": [],
   "source": [
    "frame.shape[:2]"
   ]
  },
  {
   "cell_type": "code",
   "execution_count": null,
   "id": "81750261",
   "metadata": {},
   "outputs": [],
   "source": [
    "import cv2\n",
    "import os\n",
    "import numpy as np\n",
    "from tqdm import tqdm\n",
    "from mpl_toolkits.mplot3d import Axes3D\n",
    "import matplotlib.pyplot as plt\n",
    "\n",
    "fig = plt.figure(figsize=(10,8))\n",
    "ax = fig.add_subplot(111, projection='3d')\n",
    "\n",
    "\n",
    "\n",
    "\n",
    "# Папка с кадрами\n",
    "img_folder = r\"C:\\\\Users\\\\User\\\\Desktop\\\\drones\\\\opt_dan\\\\downloads\\\\0000\\\\frames\"\n",
    "\n",
    "# Сортировка файлов\n",
    "images = sorted(os.listdir(img_folder))\n",
    "\n",
    "# Чтение первого кадра\n",
    "img_path = os.path.join(img_folder, images[0])\n",
    "old_frame = cv2.imread(img_path)\n",
    "old_gray = cv2.cvtColor(old_frame, cv2.COLOR_BGR2GRAY)\n",
    "\n",
    "\n",
    "# Параметры камеры\n",
    "focal_length = 512.0\n",
    "height, width = old_frame.shape[:2]\n",
    "principal_point = (width/2, height/2)\n",
    "K = np.array([[focal_length, 0, principal_point[0]],\n",
    "              [0, focal_length, principal_point[1]],\n",
    "              [0, 0, 1]])\n",
    "\n",
    "\n",
    "trajectory = []\n",
    "\n",
    "# Начальная позиция камеры\n",
    "\n",
    "\n",
    "orb = cv2.ORB_create(nfeatures=2000, scaleFactor=1.2, nlevels=8)\n",
    "\n",
    "bf = cv2.BFMatcher(cv2.NORM_HAMMING, crossCheck=True)"
   ]
  },
  {
   "cell_type": "code",
   "execution_count": null,
   "id": "e82d50ec",
   "metadata": {},
   "outputs": [],
   "source": [
    "img_path = os.path.join(img_folder, images[5])\n",
    "frame = cv2.imread(img_path)\n",
    "img_path = os.path.join(img_folder, images[1])\n",
    "old_frame = cv2.imread(img_path)\n",
    "\n",
    "frame_gray = cv2.cvtColor(frame, cv2.COLOR_BGR2GRAY)\n",
    "old_gray = cv2.cvtColor(old_frame, cv2.COLOR_BGR2GRAY)\n",
    "\n",
    "\n",
    "keypoints_cur = orb.detect(frame_gray, None)\n",
    "keypoints_perv = orb.detect(old_gray, None)\n",
    "\n",
    "# Вычисление дескрипторов\n",
    "keypoints_cur, descriptors_cur = orb.compute(frame_gray, keypoints_cur)\n",
    "keypoints_perv, descriptors_perv = orb.compute(old_gray, keypoints_perv)\n",
    "\n",
    "matches = bf.match(descriptors_perv, descriptors_cur)\n",
    "matches = sorted(matches, key=lambda x: x.distance)[:200]\n",
    "\n",
    "\n"
   ]
  },
  {
   "cell_type": "code",
   "execution_count": null,
   "id": "de3216b4",
   "metadata": {},
   "outputs": [],
   "source": [
    "img_matches = cv2.drawMatches(old_gray, keypoints_perv, frame_gray, keypoints_cur, matches[:50], None, flags=2)\n",
    "plt.imshow(img_matches)"
   ]
  },
  {
   "cell_type": "code",
   "execution_count": null,
   "id": "551b52b9",
   "metadata": {},
   "outputs": [],
   "source": [
    "plt.imshow(old_frame)"
   ]
  },
  {
   "cell_type": "code",
   "execution_count": null,
   "id": "ea3a6d99",
   "metadata": {},
   "outputs": [],
   "source": [
    "# 2. Получение координат соответствующих точек\n",
    "pts_prev = np.float32([keypoints_perv[m.queryIdx].pt for m in matches])\n",
    "pts_cur  = np.float32([keypoints_cur[m.trainIdx].pt for m in matches])\n",
    "\n",
    "# 3. Находим Essential Matrix с RANSAC\n",
    "E, mask = cv2.findEssentialMat(pts_cur, pts_prev, focal=focal_length, pp=principal_point, method=cv2.RANSAC, prob=0.999, threshold=1.0)\n",
    "\n",
    "# mask содержит 1 для inliers и 0 для outliers\n",
    "inlier_matches = [matches[i] for i in range(len(matches)) if mask[i]]"
   ]
  },
  {
   "cell_type": "code",
   "execution_count": null,
   "id": "afcfd084",
   "metadata": {},
   "outputs": [],
   "source": [
    "img_inliers = cv2.drawMatches(old_gray, keypoints_perv, frame_gray, keypoints_cur, inlier_matches[:50], None, flags=2)\n",
    "plt.imshow(img_inliers)\n"
   ]
  },
  {
   "cell_type": "code",
   "execution_count": null,
   "id": "ce1f34d1",
   "metadata": {},
   "outputs": [],
   "source": [
    "def AbsoluteTrajectoryError(gt,od):\n",
    "    return np.sqrt(np.mean( ( (gt - od)**2 ).sum(axis = 1) ) )"
   ]
  },
  {
   "cell_type": "code",
   "execution_count": null,
   "id": "9b6c3e5b",
   "metadata": {},
   "outputs": [],
   "source": [
    "gt = [[1,1],[2,2], [3,3],[4,4]]\n",
    "od = [[1.1,1.5],[2.3,2.8], [3.3,3.3],[4.5,4.6]]\n",
    "\n",
    "gt = np.array(gt)\n",
    "od = np.array(od)"
   ]
  },
  {
   "cell_type": "code",
   "execution_count": null,
   "id": "1f2cddd0",
   "metadata": {},
   "outputs": [],
   "source": [
    "(((gt - od)**2).sum(axis = 1))**0.5"
   ]
  },
  {
   "cell_type": "code",
   "execution_count": null,
   "id": "41a5fb43",
   "metadata": {},
   "outputs": [],
   "source": [
    "np.linalg.norm(gt - od, axis=1)"
   ]
  },
  {
   "cell_type": "code",
   "execution_count": null,
   "id": "431e25e9",
   "metadata": {},
   "outputs": [],
   "source": [
    "print(traj_loaded.shape)\n"
   ]
  },
  {
   "cell_type": "code",
   "execution_count": null,
   "id": "16c915af",
   "metadata": {},
   "outputs": [],
   "source": [
    "print(traj_optflow.shape)"
   ]
  },
  {
   "cell_type": "code",
   "execution_count": null,
   "id": "37de71a1",
   "metadata": {},
   "outputs": [],
   "source": []
  },
  {
   "cell_type": "code",
   "execution_count": null,
   "id": "e1cf34c1",
   "metadata": {},
   "outputs": [],
   "source": [
    "import cv2\n",
    "import os\n",
    "import numpy as np\n",
    "from tqdm import tqdm\n",
    "from mpl_toolkits.mplot3d import Axes3D\n",
    "import matplotlib.pyplot as plt\n",
    "\n",
    "traj_loaded = np.load(\"C:\\\\Users\\\\User\\\\Desktop\\\\drones\\\\opt_dan\\\\coords\\\\trajectory.npy\")\n",
    "\n",
    "traj = traj_loaded\n",
    "# Основная траектория\n",
    "plt.plot(traj[:,0], traj[:,1], '-o', color='blue', markersize=3)\n",
    "\n",
    "# Начальная точка — зелёная\n",
    "plt.scatter(traj[0,0], traj[0,1], color='green', s=50, label='Start')\n",
    "\n",
    "# Конечная точка — красная\n",
    "plt.scatter(traj[-1,0], traj[-1,1], color='red', s=50, label='End')\n",
    "\n",
    "# plt.gca().invert_yaxis()  # чтобы направление Y было привычное\n",
    "plt.title(\"2D Trajectory\")\n",
    "plt.legend()\n",
    "plt.show()\n"
   ]
  },
  {
   "cell_type": "code",
   "execution_count": 1,
   "id": "ba3cb8cd",
   "metadata": {},
   "outputs": [
    {
     "name": "stderr",
     "output_type": "stream",
     "text": [
      "C:\\Users\\User\\AppData\\Local\\Temp\\ipykernel_16344\\2618507003.py:22: UserWarning: No artists with labels found to put in legend.  Note that artists whose label start with an underscore are ignored when legend() is called with no argument.\n",
      "  plt.legend()\n"
     ]
    },
    {
     "data": {
      "image/png": "[encoded data removed]",
      "text/plain": [
       "<Figure size 640x480 with 1 Axes>"
      ]
     },
     "metadata": {},
     "output_type": "display_data"
    }
   ],
   "source": [
    "import cv2\n",
    "import os\n",
    "import numpy as np\n",
    "from tqdm import tqdm\n",
    "from mpl_toolkits.mplot3d import Axes3D\n",
    "import matplotlib.pyplot as plt\n",
    "\n",
    "traj_loaded = np.load(\"C:\\\\Users\\\\User\\\\Desktop\\\\drones\\\\opt_dan\\\\coords\\\\optflow_trajectory_rot.npy\")\n",
    "\n",
    "traj = traj_loaded\n",
    "# Основная траектория\n",
    "plt.plot(traj[:,0], traj[:,1], '-o', color='blue', markersize=3)\n",
    "\n",
    "# # Начальная точка — зелёная\n",
    "# plt.scatter(traj[0,0], traj[0,1], color='green', s=50, label='Start')\n",
    "\n",
    "# # Конечная точка — красная\n",
    "# plt.scatter(traj[-1,0], traj[-1,1], color='red', s=50, label='End')\n",
    "\n",
    "# plt.gca().invert_yaxis()  # чтобы направление Y было привычное\n",
    "plt.title(\"2D Trajectory\")\n",
    "plt.legend()\n",
    "plt.show()\n"
   ]
  },
  {
   "cell_type": "code",
   "execution_count": 12,
   "id": "92db656a",
   "metadata": {},
   "outputs": [
    {
     "data": {
      "text/plain": [
       "array([[1, 2],\n",
       "       [4, 5]])"
      ]
     },
     "execution_count": 12,
     "metadata": {},
     "output_type": "execute_result"
    }
   ],
   "source": [
    "M = np.array([[1,2,3],[4,5,6]])\n",
    "M[:,:2]"
   ]
  },
  {
   "cell_type": "code",
   "execution_count": 19,
   "id": "b974deee",
   "metadata": {},
   "outputs": [],
   "source": [
    "import cv2\n",
    "import os\n",
    "import numpy as np\n",
    "from tqdm import tqdm\n",
    "import matplotlib.pyplot as plt\n",
    "\n",
    "# img_folder = \"/media/nil-risu/Files/gridsearch/0000/frames\"\n",
    "# img_folder = \"C:\\\\Users\\\\User\\\\Desktop\\\\drones\\\\opt_dan\\\\downloads\\\\0000\\\\frames\"\n",
    "img_folder = r\"C:\\Users\\User\\Desktop\\drones\\opt_dan\\downloads\\my_cutter_res\\porabola\\res1280x720\"\n",
    "images = sorted(os.listdir(img_folder))"
   ]
  },
  {
   "cell_type": "code",
   "execution_count": 20,
   "id": "fe7f57e4",
   "metadata": {},
   "outputs": [],
   "source": [
    "old_frame = cv2.imread(os.path.join(img_folder, images[0]))"
   ]
  },
  {
   "cell_type": "code",
   "execution_count": 21,
   "id": "d77f4293",
   "metadata": {},
   "outputs": [
    {
     "data": {
      "text/plain": [
       "(720, 1280, 3)"
      ]
     },
     "execution_count": 21,
     "metadata": {},
     "output_type": "execute_result"
    }
   ],
   "source": [
    "old_frame.shape"
   ]
  },
  {
   "cell_type": "code",
   "execution_count": null,
   "id": "c6655d7e",
   "metadata": {},
   "outputs": [],
   "source": [
    "import cv2\n",
    "import os\n",
    "import numpy as np\n",
    "from tqdm import tqdm\n",
    "from mpl_toolkits.mplot3d import Axes3D\n",
    "import matplotlib.pyplot as plt\n",
    "\n",
    "traj_loaded = np.load(\"C:\\\\Users\\\\User\\\\Desktop\\\\drones\\\\opt_dan\\\\coords\\\\optflow_trajectory_rot1.npy\")\n",
    "\n",
    "traj = traj_loaded\n",
    "# Основная траектория\n",
    "plt.plot(traj[:,0], traj[:,1], '-o', color='blue', markersize=3)\n",
    "\n",
    "# # Начальная точка — зелёная\n",
    "# plt.scatter(traj[0,0], traj[0,1], color='green', s=50, label='Start')\n",
    "\n",
    "# # Конечная точка — красная\n",
    "# plt.scatter(traj[-1,0], traj[-1,1], color='red', s=50, label='End')\n",
    "\n",
    "# plt.gca().invert_yaxis()  # чтобы направление Y было привычное\n",
    "plt.title(\"2D Trajectory\")\n",
    "plt.legend()\n",
    "plt.show()\n"
   ]
  },
  {
   "cell_type": "code",
   "execution_count": 2,
   "id": "bc042dc8",
   "metadata": {},
   "outputs": [
    {
     "name": "stderr",
     "output_type": "stream",
     "text": [
      "C:\\Users\\User\\AppData\\Local\\Temp\\ipykernel_4256\\399884261.py:22: UserWarning: No artists with labels found to put in legend.  Note that artists whose label start with an underscore are ignored when legend() is called with no argument.\n",
      "  plt.legend()\n"
     ]
    },
    {
     "data": {
      "image/png": "[encoded data removed]",
      "text/plain": [
       "<Figure size 640x480 with 1 Axes>"
      ]
     },
     "metadata": {},
     "output_type": "display_data"
    }
   ],
   "source": [
    "import cv2\n",
    "import os\n",
    "import numpy as np\n",
    "from tqdm import tqdm\n",
    "from mpl_toolkits.mplot3d import Axes3D\n",
    "import matplotlib.pyplot as plt\n",
    "\n",
    "traj_loaded = np.load(\"C:\\\\Users\\\\User\\\\Desktop\\\\drones\\\\opt_dan\\\\coords\\\\optflow_trajectory.npy\")\n",
    "\n",
    "traj = traj_loaded\n",
    "# Основная траектория\n",
    "plt.plot(traj[:,0], traj[:,1], '-o', color='blue', markersize=3)\n",
    "\n",
    "# # Начальная точка — зелёная\n",
    "# plt.scatter(traj[0,0], traj[0,1], color='green', s=50, label='Start')\n",
    "\n",
    "# # Конечная точка — красная\n",
    "# plt.scatter(traj[-1,0], traj[-1,1], color='red', s=50, label='End')\n",
    "\n",
    "# plt.gca().invert_yaxis()  # чтобы направление Y было привычное\n",
    "plt.title(\"2D Trajectory\")\n",
    "plt.legend()\n",
    "plt.show()"
   ]
  },
  {
   "cell_type": "code",
   "execution_count": null,
   "id": "24edb37c",
   "metadata": {},
   "outputs": [],
   "source": [
    "traj_optflow= np.load(\"C:\\\\Users\\\\User\\\\Desktop\\\\drones\\\\opt_dan\\\\coords\\\\optflow_trajectory.npy\")\n",
    "traj_optflow.shape[0]"
   ]
  },
  {
   "cell_type": "code",
   "execution_count": null,
   "id": "462a5871",
   "metadata": {},
   "outputs": [],
   "source": [
    "import itertools\n",
    "import pandas as pd\n",
    "\n",
    "feature_grid = {\n",
    "    'maxCorners': [200, 500, 1000],\n",
    "    'qualityLevel': [0.01, 0.03, 0.05],\n",
    "    'minDistance': [5, 7, 10]\n",
    "}\n",
    "\n",
    "lk_grid = {\n",
    "    'winSize': [(15,15), (21,21), (31,31)],\n",
    "    'maxLevel': [2, 3, 4],\n",
    "    'minEigThreshold': [1e-4, 1e-3, 1e-2]\n",
    "}\n",
    "\n",
    "# собираем все комбинации\n",
    "all_combinations = []\n",
    "for fc, ql, md in itertools.product(feature_grid['maxCorners'],\n",
    "                                    feature_grid['qualityLevel'],\n",
    "                                    feature_grid['minDistance']):\n",
    "    for ws, ml, me in itertools.product(lk_grid['winSize'],\n",
    "                                        lk_grid['maxLevel'],\n",
    "                                        lk_grid['minEigThreshold']):\n",
    "        all_combinations.append({\n",
    "            'maxCorners': fc,\n",
    "            'qualityLevel': ql,\n",
    "            'minDistance': md,\n",
    "            'winSize': ws,\n",
    "            'maxLevel': ml,\n",
    "            'minEigThreshold': me\n",
    "        })\n",
    "\n",
    "df = pd.DataFrame(all_combinations)\n",
    "\n",
    "import caas_jupyter_tools\n",
    "caas_jupyter_tools.display_dataframe_to_user(\"Все комбинации параметров (729 штук)\", df)\n"
   ]
  },
  {
   "cell_type": "code",
   "execution_count": null,
   "id": "55ab69d5",
   "metadata": {},
   "outputs": [],
   "source": []
  },
  {
   "cell_type": "code",
   "execution_count": null,
   "id": "0cc5db71",
   "metadata": {},
   "outputs": [],
   "source": [
    "from scipy.interpolate import interp1d\n",
    "import numpy as np\n",
    "\n",
    "traj_optflow= np.load(\"C:\\\\Users\\\\User\\\\Desktop\\\\drones\\\\opt_dan\\\\coords\\\\best_trajectory.npy\")\n",
    "\n",
    "# gt_time = np.arange(8818)        # индексы GT\n",
    "# od_time = np.linspace(0, 8817, 2204)  # индексы твоей траектории\n",
    "\n",
    "# traj_interp = np.zeros((8818, 2))\n",
    "# for i in range(2):  # x и y\n",
    "#     f = interp1d(od_time, traj_optflow[:, i], kind='linear')\n",
    "#     traj_interp[:, i] = f(gt_time)\n",
    "\n",
    "\n",
    "\n",
    "traj = traj_optflow\n",
    "# Основная траектория\n",
    "plt.plot(-1*traj[:,1], -1*traj[:,0], '-o', color='blue', markersize=3)\n",
    "\n",
    "# Начальная точка — зелёная\n",
    "plt.scatter(traj[0,0], traj[0,1], color='green', s=50, label='Start')\n",
    "\n",
    "# Конечная точка — красная\n",
    "plt.scatter(traj[-1,0], traj[-1,1], color='red', s=50, label='End')\n",
    "\n",
    "# plt.gca().invert_yaxis()  # чтобы направление Y было привычное\n",
    "plt.title(\"2D Trajectory\")\n",
    "plt.legend()\n",
    "plt.show()\n"
   ]
  },
  {
   "cell_type": "code",
   "execution_count": null,
   "id": "0729e6d4",
   "metadata": {},
   "outputs": [],
   "source": [
    "import matplotlib.pyplot as plt\n",
    "from scipy.interpolate import interp1d\n",
    "import numpy as np\n",
    "\n",
    "# Загружаем траектории\n",
    "traj_optflow = np.load(\"C:\\\\Users\\\\User\\\\Desktop\\\\drones\\\\opt_dan\\\\coords\\\\best_trajectory.npy\")\n",
    "gt_traj = np.load(\"C:\\\\Users\\\\User\\\\Desktop\\\\drones\\\\opt_dan\\\\coords\\\\trajectory.npy\")\n",
    "gt_traj = gt_traj[:, :2]\n",
    "\n",
    "# Временные индексы\n",
    "gt_time = np.arange(gt_traj.shape[0])        # индексы GT\n",
    "od_time = np.linspace(0, gt_traj.shape[0]-1, traj_optflow.shape[0])  # индексы опт. потока\n",
    "\n",
    "# Интерполяция опт. потока к GT\n",
    "traj_interp = np.zeros_like(gt_traj)\n",
    "for i in range(2):\n",
    "    f = interp1d(od_time, traj_optflow[:, i], kind='linear')\n",
    "    traj_interp[:, i] = f(gt_time)\n",
    "\n",
    "# Построение графика\n",
    "plt.figure(figsize=(8,6))\n",
    "\n",
    "# Оптический поток\n",
    "plt.plot(-1*traj_interp[:,0], -1*traj_interp[:,1], '-o', color='blue', markersize=3, label='Optical Flow')\n",
    "\n",
    "# Ground Truth\n",
    "plt.plot(gt_traj[:,0], gt_traj[:,1], '-x', color='orange', markersize=3, label='Ground Truth')\n",
    "\n",
    "# Начальные точки\n",
    "plt.scatter(traj_interp[0,0], traj_interp[0,1], color='green', s=50, label='Start OF')\n",
    "plt.scatter(gt_traj[0,0], gt_traj[0,1], color='lime', s=50, label='Start GT')\n",
    "\n",
    "# Конечные точки\n",
    "plt.scatter(traj_interp[-1,0], traj_interp[-1,1], color='red', s=50, label='End OF')\n",
    "plt.scatter(gt_traj[-1,0], gt_traj[-1,1], color='magenta', s=50, label='End GT')\n",
    "\n",
    "plt.title(\"2D Trajectory Comparison\")\n",
    "plt.legend()\n",
    "plt.xlabel(\"X\")\n",
    "plt.ylabel(\"Y\")\n",
    "plt.grid(True)\n",
    "plt.show()\n"
   ]
  },
  {
   "cell_type": "code",
   "execution_count": null,
   "id": "78e0e150",
   "metadata": {},
   "outputs": [],
   "source": [
    "traj_interp.shape"
   ]
  },
  {
   "cell_type": "code",
   "execution_count": null,
   "id": "eb0a0ad2",
   "metadata": {},
   "outputs": [],
   "source": []
  },
  {
   "cell_type": "code",
   "execution_count": null,
   "id": "361b345d",
   "metadata": {},
   "outputs": [],
   "source": [
    "\n",
    "def merge(f,s):\n",
    "    i = 0\n",
    "    I = len(f)\n",
    "    j = 0\n",
    "    J = len(s) \n",
    "    res = []\n",
    "    while True:\n",
    "        if i < I and j < J:\n",
    "            if f[i] < s[j]:\n",
    "                res.append(f[i])\n",
    "                i = i + 1\n",
    "            else: \n",
    "                res.append(s[j])\n",
    "                j = j + 1\n",
    "        elif i < I:\n",
    "            res.append(f[i])\n",
    "            i = i + 1\n",
    "        elif j < J:\n",
    "            res.append(s[j])\n",
    "            j = j + 1\n",
    "        else: \n",
    "            return res\n",
    "        \n",
    "def splitAnDmerge(a):\n",
    "    N = len(a)//2\n",
    "    a1 = a[:N]\n",
    "    a2 = a[N:]\n",
    "\n",
    "    print(f\"a1 = {a1}       a2 = {a2}\")\n",
    "    if len(a1) > 1:\n",
    "        a1 = splitAnDmerge(a1)\n",
    "    if len(a2) > 1:\n",
    "        a2 = splitAnDmerge(a2)\n",
    "    print(f\"в мердж кладутся a1 = {a1}       a2 = {a2}\")\n",
    "    return merge(a1,a2)"
   ]
  },
  {
   "cell_type": "code",
   "execution_count": null,
   "id": "9855c2f3",
   "metadata": {},
   "outputs": [],
   "source": [
    "def splitAnDmerge(a):\n",
    "    N = len(a)//2\n",
    "    a1 = a[:N]\n",
    "    a2 = a[N:]\n",
    "\n",
    "    print(f\"a1 = {a1}       a2 = {a2}\")\n",
    "    if len(a1) > 1:\n",
    "        a1 = splitAnDmerge(a1)\n",
    "    if len(a2) > 1:\n",
    "        a2 = splitAnDmerge(a2)\n",
    "    print(f\"в мердж кладутся a1 = {a1}       a2 = {a2}\")\n",
    "    return merge(a1,a2)"
   ]
  },
  {
   "cell_type": "code",
   "execution_count": null,
   "id": "f64e4ef0",
   "metadata": {},
   "outputs": [],
   "source": [
    "mas = [9,5,-3,4,7,8]\n",
    "splitAnDmerge(mas)"
   ]
  },
  {
   "cell_type": "code",
   "execution_count": null,
   "id": "9687b3aa",
   "metadata": {},
   "outputs": [],
   "source": [
    "mas = [9,5,-3,4,7,8,-8]\n",
    "splitAnDmerge(mas)"
   ]
  },
  {
   "cell_type": "code",
   "execution_count": null,
   "id": "c50dda00",
   "metadata": {},
   "outputs": [],
   "source": [
    "import random"
   ]
  },
  {
   "cell_type": "code",
   "execution_count": null,
   "id": "24960c03",
   "metadata": {},
   "outputs": [],
   "source": [
    "def quic_sort(a):\n",
    "    print(a)\n",
    "    if len(a) > 1:\n",
    "        x = a[random.randint(0, len(a)-1)]\n",
    "        low = [u for u in a if u < x]\n",
    "        eq = [u for u in a if u == x]\n",
    "        hi = [u for u in a if u > x]\n",
    "        print(f\"x = {x} low = {low} hi = {hi}\")\n",
    "        a = quic_sort(low) + eq + quic_sort(hi)\n",
    "        print(f\"result a = {a}\")\n",
    "    return a"
   ]
  },
  {
   "cell_type": "code",
   "execution_count": null,
   "id": "b4389f2e",
   "metadata": {},
   "outputs": [],
   "source": [
    "a = [9, 5, -3, 4, 7, 8, -8]\n",
    "a = quic_sort(a)"
   ]
  },
  {
   "cell_type": "code",
   "execution_count": null,
   "id": "c93d241b",
   "metadata": {},
   "outputs": [],
   "source": [
    "a"
   ]
  },
  {
   "cell_type": "code",
   "execution_count": null,
   "id": "e0b36f18",
   "metadata": {},
   "outputs": [],
   "source": []
  }
 ],
 "metadata": {
  "kernelspec": {
   "display_name": "Python 3",
   "language": "python",
   "name": "python3"
  },
  "language_info": {
   "codemirror_mode": {
    "name": "ipython",
    "version": 3
   },
   "file_extension": ".py",
   "mimetype": "text/x-python",
   "name": "python",
   "nbconvert_exporter": "python",
   "pygments_lexer": "ipython3",
   "version": "3.12.0"
  }
 },
 "nbformat": 4,
 "nbformat_minor": 5
}
